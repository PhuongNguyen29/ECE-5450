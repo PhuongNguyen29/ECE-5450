{
 "cells": [
  {
   "cell_type": "code",
   "execution_count": 2,
   "metadata": {},
   "outputs": [],
   "source": [
    "%matplotlib inline\n",
    "import numpy as np\n",
    "import matplotlib.pyplot as plt\n",
    "from scipy import stats\n",
    "from sklearn.datasets import fetch_openml\n",
    "import pickle\n",
    "from scipy.special import expit\n",
    "from sklearn.model_selection import train_test_split"
   ]
  },
  {
   "cell_type": "markdown",
   "metadata": {},
   "source": [
    "## Open MNIST data and create a subset with desired digits\n",
    "MNIST dataset contains 70,000 images of hand-written digits from 0 to 9. Each image has a grey-scale resolution of 28 $\\times$ 28 (i.e., 784 pixels). Each pixel has an integer value ranging from 0 (bright) to 255 (dark).\n",
    "\n",
    "<font color=red>Change the code below to select a different subset </font>"
   ]
  },
  {
   "cell_type": "code",
   "execution_count": 3,
   "metadata": {},
   "outputs": [
    {
     "name": "stderr",
     "output_type": "stream",
     "text": [
      "/Library/Frameworks/Python.framework/Versions/3.11/lib/python3.11/site-packages/sklearn/datasets/_openml.py:968: FutureWarning: The default value of `parser` will change from `'liac-arff'` to `'auto'` in 1.4. You can set `parser='auto'` to silence this warning. Therefore, an `ImportError` will be raised from 1.4 if the dataset is dense and pandas is not installed. Note that the pandas parser may return different data types. See the Notes Section in fetch_openml's API doc for details.\n",
      "  warn(\n"
     ]
    }
   ],
   "source": [
    "X, y = fetch_openml(\"mnist_784\", version=1, return_X_y=True, as_frame=False)\n",
    "y = np.asarray([int(numeric_string) for numeric_string in y])\n",
    "\n",
    "# Change the conditions below to compare between other two digits.\n",
    "class1Indices = (y==0)\n",
    "class2Indices = (y==1)\n",
    "\n",
    "x1 = X[class1Indices]\n",
    "x2 = X[class2Indices]\n",
    "\n",
    "Xtrain = np.concatenate((x1,x2),axis=0)\n",
    "ytrain = np.concatenate((np.zeros(x1.shape[0]),np.ones(x2.shape[0])),axis=0)\n",
    "\n",
    "\n",
    "#ytrain = ytrain.reshape(-1,1)\n",
    "# Saving the temporary variables for fast retrieval\n",
    "with open('temp.pickle', 'wb') as handle:\n",
    "    pickle.dump([Xtrain, ytrain], handle)\n",
    "\n"
   ]
  },
  {
   "cell_type": "code",
   "execution_count": 4,
   "metadata": {},
   "outputs": [
    {
     "name": "stdout",
     "output_type": "stream",
     "text": [
      "xtrain:  (14780, 784)\n",
      "ytrain:  (14780,)\n",
      "x1  (6903, 784)\n",
      "x2  (7877, 784)\n"
     ]
    }
   ],
   "source": [
    "print(\"xtrain: \",Xtrain.shape)\n",
    "print(\"ytrain: \",ytrain.shape)\n",
    "print(\"x1 \" , x1.shape )\n",
    "print(\"x2 \" , x2.shape )"
   ]
  },
  {
   "cell_type": "markdown",
   "metadata": {},
   "source": [
    "# 1. Split the data to training, testing, and validation subsets"
   ]
  },
  {
   "cell_type": "code",
   "execution_count": 5,
   "metadata": {},
   "outputs": [],
   "source": [
    "# loading the temporary variables for fast retrieval\n",
    "with open('temp.pickle', 'rb') as handle:\n",
    "    Xtrain, ytrain = pickle.load(handle)\n",
    "    \n",
    "# Split the data to training, testing, and validation subsets\n",
    "    \n",
    "X_train, X_test, y_train, y_test = train_test_split(Xtrain, ytrain, test_size=0.2, random_state=1)\n",
    "\n",
    "X_train, X_val, y_train, y_val = train_test_split(X_train, y_train, test_size=0.125, random_state=1) # 0.25 x 0.8 = 0.2\n",
    "\n",
    "\n",
    "Nsamples = X_train.shape[0]\n",
    "Nfeatures = X_train.shape[1]\n"
   ]
  },
  {
   "cell_type": "markdown",
   "metadata": {},
   "source": [
    "# 2. Accuracy of a classifier"
   ]
  },
  {
   "cell_type": "code",
   "execution_count": 24,
   "metadata": {},
   "outputs": [],
   "source": [
    "def testLinearClassifier(a,X,y):\n",
    "    # YOUR CODE HERE\n",
    "    #a = np.concatenate([w.T, np.array([w_0])])\n",
    "    X = np.column_stack((X, np.ones((X.shape[0],1))))\n",
    "    #print(\"Shape_X: \", X.shape)\n",
    "    discriminants = np.dot(X,a)\n",
    "    predictions = discriminants >0\n",
    "    misclassifications  = np.sum(predictions != y)\n",
    "    return (misclassifications)\n"
   ]
  },
  {
   "cell_type": "markdown",
   "metadata": {},
   "source": [
    "## 3. Define and test gaussianClassifierWithIdentityCovariance "
   ]
  },
  {
   "cell_type": "code",
   "execution_count": 25,
   "metadata": {},
   "outputs": [
    {
     "name": "stdout",
     "output_type": "stream",
     "text": [
      "Mis-classifications= 5524 out of  10346  equivalent to  53.39261550357626%\n",
      "Mis-classifications= 777 out of  1478  equivalent to  52.57104194857916%\n",
      "Mis-classifications= 1576 out of  2956  equivalent to  53.31529093369418%\n"
     ]
    },
    {
     "data": {
      "image/png": "[encoded data removed]",
      "text/plain": [
       "<Figure size 640x480 with 1 Axes>"
      ]
     },
     "metadata": {},
     "output_type": "display_data"
    }
   ],
   "source": [
    "#------TRAINING CODE --------------\n",
    "\n",
    "def gaussianClassifierWithIdentityCovariance(Xtrain,ytrain):\n",
    "    #print(Xtrain.shape)\n",
    "    mu1 = np.mean(Xtrain[ytrain == 0], axis =0)\n",
    "    mu2 = np.mean(Xtrain[ytrain == 1],axis = 0)\n",
    "    w = mu2 - mu1\n",
    "    w_0 = np.dot(w.T, ((mu1+mu2)/2)) \n",
    "    a = np.concatenate([w.T, np.array([w_0])])\n",
    "    #print(\"shape a: \", a.shape)\n",
    "    #a1 = np.dot(X,a)\n",
    "    return a\n",
    "    #YOUR CODE HERE\n",
    "\n",
    "\n",
    "#------SIMPLE TESTING ON THE TRAINING DATA ITSELF --------------\n",
    "a = gaussianClassifierWithIdentityCovariance(X_train,y_train)\n",
    "plt.imshow(np.reshape(a[0:784],(28,28)))\n",
    "\n",
    "train = testLinearClassifier(a,X_train,y_train)\n",
    "val = testLinearClassifier(a,X_val,y_val)\n",
    "test = testLinearClassifier(a,X_test,y_test)\n",
    "\n",
    "print(\"Mis-classifications= {} out of  {}  equivalent to  {}%\".format(train, int(X_train.shape[0]),train *100 / int(X_train.shape[0])))\n",
    "print(\"Mis-classifications= {} out of  {}  equivalent to  {}%\".format(val, int(X_val.shape[0]),val*100 / int(X_val.shape[0])))\n",
    "print(\"Mis-classifications= {} out of  {}  equivalent to  {}%\".format(test, int(X_test.shape[0]),test*100 / int(X_test.shape[0])))\n"
   ]
  },
  {
   "cell_type": "markdown",
   "metadata": {},
   "source": [
    "## 4. Define and test gaussianClassifierWithCommonCovariance "
   ]
  },
  {
   "cell_type": "code",
   "execution_count": 27,
   "metadata": {},
   "outputs": [
    {
     "name": "stdout",
     "output_type": "stream",
     "text": [
      "Mis-classifications= 48 out of  10346  equivalent to  0.4639474192924802%\n",
      "Mis-classifications= 19 out of  1478  equivalent to  1.2855209742895806%\n",
      "Mis-classifications= 22 out of  2956  equivalent to  0.7442489851150202%\n"
     ]
    },
    {
     "data": {
      "image/png": "[encoded data removed]",
      "text/plain": [
       "<Figure size 640x480 with 1 Axes>"
      ]
     },
     "metadata": {},
     "output_type": "display_data"
    }
   ],
   "source": [
    "#------TRAINING CODE --------------\n",
    "\n",
    "def gaussianClassifierWithCommonCovariance(Xtrain,ytrain):\n",
    "    mu1 = np.mean(Xtrain[ytrain == 0], axis =0)\n",
    "    mu2 = np.mean(Xtrain[ytrain == 1],axis = 0)\n",
    "    #print(\"mu1:\", mu1)\n",
    "    #print(\"mu2:\", mu2)\n",
    "    x1 = Xtrain[ytrain == 0]\n",
    "    x2 = Xtrain[ytrain == 1]\n",
    "    #Number of sample x1 and x2\n",
    "    N1 = x1.shape[0]\n",
    "    N2 = x2.shape[0]\n",
    "    #print(\"Shape1 :\",(x1-mu1).shape)\n",
    "    #print(\"Shape2:\", x2.shape)\n",
    "    #Covariance matrix\n",
    "    Sigma = (1/(N1+N2))*(np.dot((x1-mu1).T,(x1-mu1))+np.dot((x2-mu2).T,(x2-mu2)))\n",
    "    for i in range(Sigma.shape[0]):\n",
    "        Sigma[i, i] += 1e-6\n",
    "    Sigma_inverse = np.linalg.inv(Sigma)\n",
    "    w = np.dot(Sigma_inverse, (mu2 - mu1).T)\n",
    "    w_0 = -np.dot(np.dot(Sigma_inverse, (mu2 - mu1).T), ((mu1+mu2)/2)) + np.log(N2/N1)\n",
    "    #w_0 = 0.5 * (np.dot(np.dot(mu2.T, Sigma_inverse),mu2) -  np.dot(np.dot(mu1.T, Sigma_inverse),mu1)) #+ np.log(N1/N2)\n",
    "    a2 = np.concatenate([w, np.array([w_0])])\n",
    "    #print(\"Complete your code\")\n",
    "    #print(\"Shape Sigma: \", w_0.shape)\n",
    "    #print(\"Shape w: \", w.shape)\n",
    "    return a2\n",
    "    #YOUR CODE HERE\n",
    "\n",
    "    \n",
    "#------SIMPLE TESTING ON THE TRAINING DATA ITSELF --------------\n",
    "a = gaussianClassifierWithCommonCovariance(X_train,y_train)\n",
    "plt.imshow(np.reshape(a[0:784],(28,28)))\n",
    "\n",
    "train = testLinearClassifier(a,X_train,y_train)\n",
    "val = testLinearClassifier(a,X_val,y_val)\n",
    "test = testLinearClassifier(a,X_test,y_test)\n",
    "\n",
    "\n",
    "print(\"Mis-classifications= {} out of  {}  equivalent to  {}%\".format(train, int(X_train.shape[0]),train*100 / int(X_train.shape[0])))\n",
    "print(\"Mis-classifications= {} out of  {}  equivalent to  {}%\".format(val, int(X_val.shape[0]),val*100 / int(X_val.shape[0])))\n",
    "print(\"Mis-classifications= {} out of  {}  equivalent to  {}%\".format(test, int(X_test.shape[0]),test*100 / int(X_test.shape[0])))\n"
   ]
  },
  {
   "cell_type": "markdown",
   "metadata": {},
   "source": [
    "Result validation\\\n",
    "Complete your code\\\n",
    "Mis-classifications= 6318.0 out of  8897 equivalent to 71.01270091041924 % \\\n",
    "Mis-classifications= 1034.0 out of  1449 equivalent to 71.35955831608005 %  \\\n",
    "Mis-classifications= 3135.0 out of  4434 equivalent to 70.70365358592693 %\\"
   ]
  },
  {
   "cell_type": "markdown",
   "metadata": {},
   "source": [
    "## 5. Define and test logisticRegression \n",
    "\n",
    "You may choose the step size as 1e-4. You can try changing it.\n",
    "\n",
    "Use the expit() function from scipy.special.expit to implement sigmoid without overflow errors "
   ]
  },
  {
   "cell_type": "code",
   "execution_count": 38,
   "metadata": {},
   "outputs": [
    {
     "name": "stdout",
     "output_type": "stream",
     "text": [
      "(10346, 784)\n",
      "Mis-classifications= 10 out of  10346  equivalent to  0.09665571235260004%\n",
      "Mis-classifications= 2 out of  1478  equivalent to  0.13531799729364005%\n",
      "Mis-classifications= 4 out of  2956  equivalent to  0.13531799729364005%\n"
     ]
    },
    {
     "data": {
      "image/png": "[encoded data removed]",
      "text/plain": [
       "<Figure size 640x480 with 1 Axes>"
      ]
     },
     "metadata": {},
     "output_type": "display_data"
    }
   ],
   "source": [
    "from scipy.special import expit\n",
    "\n",
    "def logisticRegression(Xtrain,ytrain,iterations=100,step_size=1e-4,verbose=True):\n",
    "    a3 = 0.01*np.random.randn(Nfeatures+1,)\n",
    "    # mu1 = np.mean(Xtrain[ytrain == 0], axis =0)\n",
    "    # mu2 = np.mean(Xtrain[ytrain == 1],axis = 0)\n",
    "    # w = mu2 - mu1\n",
    "    # w_0 = np.dot(w.T, ((mu1+mu2)/2)) \n",
    "    # a3 = np.concatenate([w.T, np.array([w_0])])\n",
    "    #print(\"Shape: \", a3.shape)\n",
    "    \n",
    "    Xtrain = np.column_stack((Xtrain, np.ones((Xtrain.shape[0],1))))\n",
    "    epsilon = 1e-6\n",
    "    for i in range (iterations):\n",
    "        #predictions = 1/(1+np.exp(-(np.dot(Xtrain,a3))))\n",
    "        predictions = expit(np.dot(Xtrain,a3))\n",
    "        gradient = -np.dot(Xtrain.T, (predictions - ytrain)) \n",
    "        a3 += step_size *gradient\n",
    "        #print(\"gradient :\", gradient)\n",
    "        #print(\"a :\", a3)\n",
    "        if verbose:\n",
    "            cost = -np.mean(ytrain * np.log(predictions+epsilon) + (1 - ytrain) * np.log(1 - predictions+epsilon))\n",
    "            #print(\"The cost = {}\".format(cost))\n",
    "    #a = 0.01*np.random.randn(Nfeatures+1,1)\n",
    "    #print(\"Complete your code\")\n",
    "    \n",
    "    return a3\n",
    "    #YOUR CODE HERE\n",
    "    \n",
    "#------SIMPLE TESTING ON THE TRAINING DATA ITSELF --------------\n",
    "a = logisticRegression(X_train,y_train,iterations=500,verbose=False)\n",
    "plt.imshow(np.reshape(a[0:784],(28,28)))\n",
    "\n",
    "print(X_train.shape)\n",
    "train = testLinearClassifier(a,X_train,y_train)\n",
    "val = testLinearClassifier(a,X_val,y_val)\n",
    "test = testLinearClassifier(a,X_test,y_test)\n",
    "\n",
    "print(\"Mis-classifications= {} out of  {}  equivalent to  {}%\".format(train, int(X_train.shape[0]),train*100 / int(X_train.shape[0])))\n",
    "print(\"Mis-classifications= {} out of  {}  equivalent to  {}%\".format(val, int(X_val.shape[0]),val*100 / int(X_val.shape[0])))\n",
    "print(\"Mis-classifications= {} out of  {}  equivalent to  {}%\".format(test, int(X_test.shape[0]),test*100 / int(X_test.shape[0])))\n"
   ]
  },
  {
   "cell_type": "markdown",
   "metadata": {},
   "source": [
    "## 6. Define and test logisticRegression with regularization"
   ]
  },
  {
   "cell_type": "markdown",
   "metadata": {},
   "source": [
    "Complete your code\\\n",
    "Mis-classifications= 5607.0 out of  8897 equivalent to 63.021243115656965 %\\\n",
    "Mis-classifications= 918.0 out of  1449 equivalent to 63.35403726708075 %\\\n",
    "Mis-classifications= 2845.0 out of  4434 equivalent to 64.16328371673433 %\\"
   ]
  },
  {
   "cell_type": "code",
   "execution_count": 39,
   "metadata": {},
   "outputs": [
    {
     "name": "stdout",
     "output_type": "stream",
     "text": [
      "Mis-classifications= 30 out of  10346  equivalent to  0.28996713705780014%\n",
      "Mis-classifications= 3 out of  1478  equivalent to  0.2029769959404601%\n",
      "Mis-classifications= 11 out of  2956  equivalent to  0.3721244925575101%\n"
     ]
    },
    {
     "data": {
      "image/png": "[encoded data removed]",
      "text/plain": [
       "<Figure size 640x480 with 1 Axes>"
      ]
     },
     "metadata": {},
     "output_type": "display_data"
    }
   ],
   "source": [
    "mu1 = np.mean(Xtrain[ytrain == 0], axis =0)\n",
    "mu2 = np.mean(Xtrain[ytrain == 1],axis = 0)\n",
    "w = mu2 - mu1\n",
    "w_0 = np.dot(w.T, ((mu1+mu2)/2)) \n",
    "\n",
    "def logisticRegressionWithRegularization(Xtrain,ytrain,iterations=100,step_size=1e-4,lam=0,verbose=True):\n",
    "    a = 0.01*np.random.randn(Nfeatures+1,)\n",
    "    #a = np.concatenate([w.T, np.array([w_0])])\n",
    "    epsilon = 1e-6\n",
    "    Xtrain = np.column_stack((Xtrain, np.ones((Xtrain.shape[0],1))))\n",
    "    for i in range (iterations):\n",
    "        predictions = expit(np.dot(Xtrain,a))\n",
    "        gradient = -np.dot(Xtrain.T, (predictions - ytrain)) + 2 * lam * a\n",
    "        #gradient = -np.dot(Xtrain.T, (predictions - ytrain))\n",
    "           # Update weights and bias separately\n",
    "        a += step_size *gradient\n",
    "        if verbose and i % 100 == 0:\n",
    "            cost = -np.mean(ytrain * np.log(predictions+epsilon) + (1 - ytrain) * np.log(1 - predictions+epsilon)) + lam * np.sum(a[:-1] ** 2)\n",
    "            #print(\"Cost :\",cost)\n",
    "    #a = 0.01*np.random.randn(Nfeatures+1,1)\n",
    "    #print(\"Complete your code\")\n",
    "    \n",
    "    return a\n",
    "    #YOUR CODE HERE\n",
    "    \n",
    "#------SIMPLE TESTING ON THE TRAINING DATA ITSELF --------------\n",
    "#a = logisticRegressionWithRegularization(X_train,y_train,iterations=500,verbose=False,lam=10)\n",
    "a = logisticRegressionWithRegularization(X_train,y_train,iterations=500,step_size=1e-4,lam=100,verbose=True)\n",
    "plt.imshow(np.reshape(a[0:784],(28,28)))\n",
    "\n",
    "train = testLinearClassifier(a,X_train,y_train)\n",
    "val = testLinearClassifier(a,X_val,y_val)\n",
    "test = testLinearClassifier(a,X_test,y_test)\n",
    "\n",
    "\n",
    "print(\"Mis-classifications= {} out of  {}  equivalent to  {}%\".format(train, int(X_train.shape[0]),train*100 / int(X_train.shape[0])))\n",
    "print(\"Mis-classifications= {} out of  {}  equivalent to  {}%\".format(val, int(X_val.shape[0]),val*100 / int(X_val.shape[0])))\n",
    "print(\"Mis-classifications= {} out of  {}  equivalent to  {}%\".format(test, int(X_test.shape[0]),test*100 / int(X_test.shape[0])))\n",
    "\n"
   ]
  },
  {
   "cell_type": "code",
   "execution_count": 40,
   "metadata": {},
   "outputs": [
    {
     "name": "stdout",
     "output_type": "stream",
     "text": [
      "Best lam:  0.01\n",
      "Mis-classifications= 6 out of  10346  equivalent to  0.05799342741156002%\n",
      "Mis-classifications= 2 out of  1478  equivalent to  0.13531799729364005%\n",
      "Mis-classifications= 4 out of  2956  equivalent to  0.13531799729364005%\n"
     ]
    },
    {
     "data": {
      "image/png": "[encoded data removed]",
      "text/plain": [
       "<Figure size 640x480 with 1 Axes>"
      ]
     },
     "metadata": {},
     "output_type": "display_data"
    }
   ],
   "source": [
    "def optimizeHyperparameters(Xtrain,ytrain):\n",
    "    lambda_values = [0.01, 0.1, 1, 10, 100]\n",
    "    #lambda_values = np.linspace(0.01, 100, 100)\n",
    "    lamopt = None\n",
    "    lowest_error = float('inf')\n",
    "        # YOUR CODE HERE\n",
    "    for lam in lambda_values:\n",
    "        a = logisticRegressionWithRegularization(Xtrain,ytrain,iterations=100,step_size=1e-4,lam=lam,verbose=False)\n",
    "        error = testLinearClassifier(a, X_val, y_val)\n",
    "        #print(\"Error: \", error)\n",
    "        if error < lowest_error:\n",
    "            lowest_error = error\n",
    "            lamopt = lam\n",
    "    print(\"Best lam: \",lamopt)\n",
    "    return lamopt\n",
    "\n",
    "#------SIMPLE TESTING ON THE TRAINING DATA ITSELF --------------\n",
    "#a = logisticRegressionWithRegularization(X_train,y_train,iterations=500,verbose=False,lam=10)\n",
    "a = logisticRegressionWithRegularization(X_train,y_train,iterations=500,step_size=1e-4,lam=optimizeHyperparameters(Xtrain,ytrain),verbose=True)\n",
    "plt.imshow(np.reshape(a[0:784],(28,28)))\n",
    "\n",
    "train = testLinearClassifier(a,X_train,y_train)\n",
    "val = testLinearClassifier(a,X_val,y_val)\n",
    "test = testLinearClassifier(a,X_test,y_test)\n",
    "\n",
    "\n",
    "print(\"Mis-classifications= {} out of  {}  equivalent to  {}%\".format(train, int(X_train.shape[0]),train*100 / int(X_train.shape[0])))\n",
    "print(\"Mis-classifications= {} out of  {}  equivalent to  {}%\".format(val, int(X_val.shape[0]),val*100 / int(X_val.shape[0])))\n",
    "print(\"Mis-classifications= {} out of  {}  equivalent to  {}%\".format(test, int(X_test.shape[0]),test*100 / int(X_test.shape[0])))\n",
    "\n"
   ]
  },
  {
   "cell_type": "markdown",
   "metadata": {},
   "source": [
    "# REPORT TEST ERRORS OF THE BEST MODELS\n",
    "\n",
    "YOUR CODE BELOW"
   ]
  },
  {
   "cell_type": "code",
   "execution_count": 43,
   "metadata": {},
   "outputs": [
    {
     "name": "stdout",
     "output_type": "stream",
     "text": [
      "Best lam:  0.01\n",
      "Number of misclassifications with Gaussian Classifier (Identity Covariance): 1576\n",
      "Number of misclassifications with Gaussian Classifier (Common Covariance): 22\n",
      "Number of misclassifications with Logistic Regression: 9\n",
      "Number of misclassifications with Logistic Regression (Regularization, λ=0.01): 7\n"
     ]
    }
   ],
   "source": [
    "a1 = gaussianClassifierWithIdentityCovariance(X_train, y_train)\n",
    "a2 = gaussianClassifierWithCommonCovariance(X_train, y_train)\n",
    "a3 = logisticRegression(X_train, y_train)\n",
    "lamopt = optimizeHyperparameters(X_train, y_train)\n",
    "a4 = logisticRegressionWithRegularization(X_train, y_train, lam=lamopt)\n",
    "\n",
    "\n",
    "misclassifications_a1 = testLinearClassifier(a1, X_test, y_test)\n",
    "misclassifications_a2 = testLinearClassifier(a2, X_test, y_test)\n",
    "misclassifications_a3 = testLinearClassifier(a3, X_test, y_test)\n",
    "misclassifications_a4 = testLinearClassifier(a4, X_test, y_test)\n",
    "\n",
    "# Report the results\n",
    "print(f\"Number of misclassifications with Gaussian Classifier (Identity Covariance): {misclassifications_a1}\")\n",
    "print(f\"Number of misclassifications with Gaussian Classifier (Common Covariance): {misclassifications_a2}\")\n",
    "print(f\"Number of misclassifications with Logistic Regression: {misclassifications_a3}\")\n",
    "print(f\"Number of misclassifications with Logistic Regression (Regularization, λ={lamopt}): {misclassifications_a4}\")\n",
    "\n"
   ]
  },
  {
   "cell_type": "markdown",
   "metadata": {},
   "source": [
    "The Gaussian with identity variance obtained the highest misclassification (1576) becuase the model assumes that features are indepdent, which is unrealistic a assumption. A high misclassificaions suggests that the model is not a good model. When including the covariance in the model and assuming that all classes share the same covariance mareix, the misclassification number significantly lower to 22. Logistic regression without regularization results in 9 misclassifications, which is a good outcome and suggests that the linear decision boundary formed by logistic regression is well-suited for the dataset. The performance with regularization is better than the model without regularization indicates that the model benefits from controlling for overfitting. Testing with sklearn also provides the same misclassification number (9)."
   ]
  },
  {
   "cell_type": "code",
   "execution_count": 13,
   "metadata": {},
   "outputs": [
    {
     "name": "stderr",
     "output_type": "stream",
     "text": [
      "[Parallel(n_jobs=1)]: Using backend SequentialBackend with 1 concurrent workers.\n",
      " This problem is unconstrained.\n"
     ]
    },
    {
     "name": "stdout",
     "output_type": "stream",
     "text": [
      "RUNNING THE L-BFGS-B CODE\n",
      "\n",
      "           * * *\n",
      "\n",
      "Machine precision = 2.220D-16\n",
      " N =          785     M =           10\n",
      "\n",
      "At X0         0 variables are exactly at the bounds\n",
      "\n",
      "At iterate    0    f=  7.17130D+03    |proj g|=  6.70004D+05\n",
      "\n",
      "At iterate   50    f=  5.43113D-03    |proj g|=  1.47601D-02\n",
      "\n",
      "At iterate  100    f=  4.71040D-03    |proj g|=  2.03291D-04\n",
      "\n",
      "           * * *\n",
      "\n",
      "Tit   = total number of iterations\n",
      "Tnf   = total number of function evaluations\n",
      "Tnint = total number of segments explored during Cauchy searches\n",
      "Skip  = number of BFGS updates skipped\n",
      "Nact  = number of active bounds at final generalized Cauchy point\n",
      "Projg = norm of the final projected gradient\n",
      "F     = final function value\n",
      "\n",
      "           * * *\n",
      "\n",
      "   N    Tit     Tnf  Tnint  Skip  Nact     Projg        F\n",
      "  785    100    115      1     0     0   2.033D-04   4.710D-03\n",
      "  F =   4.7104015142464158E-003\n",
      "\n",
      "STOP: TOTAL NO. of ITERATIONS REACHED LIMIT                 \n",
      "Misclassification : 9\n"
     ]
    },
    {
     "name": "stderr",
     "output_type": "stream",
     "text": [
      "/Library/Frameworks/Python.framework/Versions/3.11/lib/python3.11/site-packages/sklearn/linear_model/_logistic.py:458: ConvergenceWarning: lbfgs failed to converge (status=1):\n",
      "STOP: TOTAL NO. of ITERATIONS REACHED LIMIT.\n",
      "\n",
      "Increase the number of iterations (max_iter) or scale the data as shown in:\n",
      "    https://scikit-learn.org/stable/modules/preprocessing.html\n",
      "Please also refer to the documentation for alternative solver options:\n",
      "    https://scikit-learn.org/stable/modules/linear_model.html#logistic-regression\n",
      "  n_iter_i = _check_optimize_result(\n",
      "[Parallel(n_jobs=1)]: Done   1 out of   1 | elapsed:    1.0s finished\n"
     ]
    }
   ],
   "source": [
    "#Testing with skitlearn\n",
    "from sklearn.linear_model import LogisticRegression\n",
    "logisticRegr = LogisticRegression( max_iter=100, penalty='l2', random_state=None, \n",
    "          verbose=True, warm_start=False)\n",
    "logisticRegr.fit(X_train,y_train)\n",
    "sklearn_pred = logisticRegr.predict(X_test)\n",
    "misclassification = np.sum(sklearn_pred != y_test)\n",
    "print(\"Misclassification :\", misclassification)"
   ]
  }
 ],
 "metadata": {
  "anaconda-cloud": {},
  "kernelspec": {
   "display_name": "Python 3 (ipykernel)",
   "language": "python",
   "name": "python3"
  },
  "language_info": {
   "codemirror_mode": {
    "name": "ipython",
    "version": 3
   },
   "file_extension": ".py",
   "mimetype": "text/x-python",
   "name": "python",
   "nbconvert_exporter": "python",
   "pygments_lexer": "ipython3",
   "version": "3.11.1"
  }
 },
 "nbformat": 4,
 "nbformat_minor": 4
}
