{
 "cells": [
  {
   "cell_type": "code",
   "execution_count": 78,
   "metadata": {},
   "outputs": [],
   "source": [
    "%matplotlib inline\n",
    "import numpy as np\n",
    "import matplotlib.pyplot as plt\n",
    "from scipy import stats\n",
    "from sklearn.datasets import fetch_openml\n",
    "import pickle\n",
    "from scipy.special import expit\n",
    "from scipy.special import softmax\n",
    "from sklearn.model_selection import train_test_split"
   ]
  },
  {
   "cell_type": "markdown",
   "metadata": {},
   "source": [
    "## Open MNIST data and create a subset with desired digits\n",
    "MNIST dataset contains 70,000 images of hand-written digits from 0 to 9. Each image has a grey-scale resolution of 28 $\\times$ 28 (i.e., 784 pixels). Each pixel has an integer value ranging from 0 (bright) to 255 (dark).\n",
    "\n",
    "<font color=red>Change the code below to select a different subset </font>"
   ]
  },
  {
   "cell_type": "code",
   "execution_count": 79,
   "metadata": {},
   "outputs": [
    {
     "name": "stderr",
     "output_type": "stream",
     "text": [
      "/Library/Frameworks/Python.framework/Versions/3.11/lib/python3.11/site-packages/sklearn/datasets/_openml.py:968: FutureWarning: The default value of `parser` will change from `'liac-arff'` to `'auto'` in 1.4. You can set `parser='auto'` to silence this warning. Therefore, an `ImportError` will be raised from 1.4 if the dataset is dense and pandas is not installed. Note that the pandas parser may return different data types. See the Notes Section in fetch_openml's API doc for details.\n",
      "  warn(\n"
     ]
    }
   ],
   "source": [
    "Xtrain, y = fetch_openml(\"mnist_784\", version=1, return_X_y=True, as_frame=False)\n",
    "ytrain = np.asarray([int(numeric_string) for numeric_string in y])"
   ]
  },
  {
   "cell_type": "markdown",
   "metadata": {},
   "source": [
    "# Split the data to training, testing, and validation subsets"
   ]
  },
  {
   "cell_type": "code",
   "execution_count": 80,
   "metadata": {},
   "outputs": [
    {
     "name": "stdout",
     "output_type": "stream",
     "text": [
      "N_sample:  49000\n",
      "N_feature:  784\n",
      "X_test_shape : (14000, 784)\n",
      "X_shape : (49000, 784)\n"
     ]
    }
   ],
   "source": [
    "# loading the temporary variables for fast retrieval\n",
    "#with open('temp.pickle', 'rb') as handle:\n",
    "    #Xtrain, ytrain = pickle.load(handle)\n",
    "    \n",
    "# Split the data to training, testing, and validation subsets\n",
    "    \n",
    "X_train, X_test, y_train, y_test = train_test_split(Xtrain, ytrain, test_size=0.2, random_state=1)\n",
    "\n",
    "X_train, X_val, y_train, y_val = train_test_split(X_train, y_train, test_size=0.125, random_state=1) # 0.25 x 0.8 = 0.2\n",
    "\n",
    "\n",
    "Nsamples = X_train.shape[0]\n",
    "Nfeatures = X_train.shape[1]\n",
    "\n",
    "print(\"N_sample: \", Nsamples)\n",
    "print(\"N_feature: \",Nfeatures)\n",
    "\n",
    "print(\"X_test_shape :\",X_test.shape)\n",
    "print(\"X_shape :\",X_train.shape)\n",
    "\n",
    "\n"
   ]
  },
  {
   "cell_type": "markdown",
   "metadata": {},
   "source": [
    "* The sample aftersplit is as follow: \n",
    "- Train set has 49000 samples with 784 features\n",
    "- Test set has 14000 samples with 784 features\n",
    "- Val set has 7000 samples with 784 features\n"
   ]
  },
  {
   "cell_type": "markdown",
   "metadata": {},
   "source": [
    "# Accuracy of a classifier"
   ]
  },
  {
   "cell_type": "code",
   "execution_count": 81,
   "metadata": {},
   "outputs": [],
   "source": [
    "def testLinearMCClassifier(A,X_test, y_test):\n",
    "    # Add a column of ones to X_test for the bias term\n",
    "    X_test_augmented = np.column_stack((X_test, np.ones(X_test.shape[0])))\n",
    "    #print(X_test_augmented.shape)\n",
    "    class_scores = np.dot(X_test_augmented, A)\n",
    "\n",
    "    #print(A.shape)\n",
    "    # Predicted class is the one with the highest score\n",
    "    predictions = np.argmax(class_scores, axis=1)\n",
    "    #print(predictions.shape)\n",
    "    # Count how many predictions are incorrect\n",
    "    misclassified = np.sum(predictions != y_test)\n",
    "\n",
    "    return misclassified\n"
   ]
  },
  {
   "cell_type": "markdown",
   "metadata": {},
   "source": [
    "## Define gaussianMultiChannelClassifier to perform multi-class Gaussian classifier "
   ]
  },
  {
   "cell_type": "code",
   "execution_count": 82,
   "metadata": {},
   "outputs": [
    {
     "name": "stdout",
     "output_type": "stream",
     "text": [
      "Mis-classifications= 9307 out of  49000  equivalent to  18.993877551020407%\n",
      "Mis-classifications= 1337 out of  7000  equivalent to  19.1%\n",
      "Mis-classifications= 2634 out of  14000  equivalent to  18.814285714285713%\n"
     ]
    },
    {
     "data": {
      "image/png": "[encoded data removed]",
      "text/plain": [
       "<Figure size 640x480 with 1 Axes>"
      ]
     },
     "metadata": {},
     "output_type": "display_data"
    }
   ],
   "source": [
    "#------TRAINING CODE --------------\n",
    "\n",
    "def gaussianMultiChannelClassifier(Xtrain,ytrain):\n",
    "    \n",
    "    n_classes = len(np.unique(y_train))\n",
    "    n_features = X_train.shape[1]\n",
    "    #print(\"mu2:\", mu2)\n",
    "    A1 = np.zeros((n_features + 1, n_classes))\n",
    "\n",
    "    for i in range(n_classes):\n",
    "        mu_i = np.mean(X_train[y_train == i], axis=0)\n",
    "        A1[:-1, i] = mu_i\n",
    "        A1[-1, i] = -0.5 * np.dot(mu_i.T, mu_i)\n",
    "    #print(A1.shape)\n",
    "    return A1\n",
    "    #YOUR CODE HERE\n",
    "\n",
    "\n",
    "a = gaussianMultiChannelClassifier(X_train,y_train)\n",
    "plt.imshow(np.reshape(a[0:-1,8],(28,28)))\n",
    "\n",
    "\n",
    "#------SIMPLE TESTING ON THE TRAINING DATA ITSELF --------------\n",
    "train = testLinearMCClassifier(a,X_train,y_train)\n",
    "val = testLinearMCClassifier(a,X_val,y_val)\n",
    "test = testLinearMCClassifier(a,X_test,y_test)\n",
    "\n",
    "print(\"Mis-classifications= {} out of  {}  equivalent to  {}%\".format(train, int(X_train.shape[0]),train *100 / int(X_train.shape[0])))\n",
    "print(\"Mis-classifications= {} out of  {}  equivalent to  {}%\".format(val, int(X_val.shape[0]),val*100 / int(X_val.shape[0])))\n",
    "print(\"Mis-classifications= {} out of  {}  equivalent to  {}%\".format(test, int(X_test.shape[0]),test*100 / int(X_test.shape[0])))\n"
   ]
  },
  {
   "cell_type": "markdown",
   "metadata": {},
   "source": [
    "## Define logisticRegressionMultiClassClassifier\n",
    "\n",
    "You may choose the step size as 1e-4. You can try changing it."
   ]
  },
  {
   "cell_type": "code",
   "execution_count": 83,
   "metadata": {},
   "outputs": [
    {
     "name": "stdout",
     "output_type": "stream",
     "text": [
      "Mis-classifications= 6052 out of  49000  equivalent to  12.351020408163265%\n",
      "Mis-classifications= 896 out of  7000  equivalent to  12.8%\n",
      "Mis-classifications= 1808 out of  14000  equivalent to  12.914285714285715%\n"
     ]
    },
    {
     "data": {
      "image/png": "[encoded data removed]",
      "text/plain": [
       "<Figure size 640x480 with 1 Axes>"
      ]
     },
     "metadata": {},
     "output_type": "display_data"
    }
   ],
   "source": [
    "def softmax(z):\n",
    "    z -= np.max(z, axis=1, keepdims=True)  # For numerical stability\n",
    "    exp_scores = np.exp(z)\n",
    "    return exp_scores / np.sum(exp_scores, axis=1, keepdims=True)\n",
    "\n",
    "def logisticRegressionMultiClassClassifier(Xtrain, ytrain, iterations=100, step_size=1e-4, verbose=True):\n",
    "    n_classes = len(np.unique(ytrain))\n",
    "    n_features = Xtrain.shape[1]\n",
    "    A2 = np.zeros((n_features + 1, n_classes))  # Matrix to store weights for each class\n",
    "\n",
    "    Xtrain_transformed = np.column_stack((Xtrain, np.ones((Xtrain.shape[0], 1))))  # Add bias term\n",
    "\n",
    "    for class_index in range(n_classes):\n",
    "        # Initialize weights for this class\n",
    "        ytrain_binary = (ytrain == class_index).astype(int)  # Binary labels for one-vs-rest\n",
    "        #print(\"Y train shape: \", ytrain_binary.shape )\n",
    "        #a = np.zeros(n_features + 1)\n",
    "\n",
    "        for i in range(iterations):\n",
    "           scores = np.dot(Xtrain_transformed, A2)\n",
    "           predictions = softmax(scores)\n",
    "           #print(\"prediction shape: \", predictions.shape )\n",
    "           prob_vector = predictions[:, class_index]\n",
    "           gradient = -np.dot(Xtrain_transformed.T[:-1], (prob_vector - ytrain_binary))\n",
    "           bias_gradient = np.sum(prob_vector - ytrain_binary)\n",
    "           #bias_gradient = -np.sum(ytrain_binary - prob_vector)\n",
    "           # Update weights and bias separately\n",
    "           A2[:-1, class_index] += step_size * gradient\n",
    "           A2[-1, class_index] += step_size * bias_gradient  \n",
    "           epsilon = 1e-6\n",
    "           if verbose and i % 50 == 0:\n",
    "                cost = -np.mean(ytrain_binary * np.log(prob_vector+epsilon) + (1 - ytrain_binary) * np.log(1 - prob_vector+epsilon))  #+ (lambda_val/2) * np.sum(A3[:-1, class_index] ** 2)\n",
    "                #print(f\"Iteration {i}, Cost: {cost}\")\n",
    "    #print(A2.shape)\n",
    "    return A2\n",
    "    #YOUR CODE HERE\n",
    "    \n",
    "#------SIMPLE TESTING ON THE TRAINING DATA ITSELF --------------\n",
    "\n",
    "a = logisticRegressionMultiClassClassifier(X_train,y_train, iterations=100, step_size=1e-4, verbose=True)\n",
    "plt.imshow(np.reshape(a[0:-1,8],(28,28)))\n",
    "\n",
    "\n",
    "# print(X_train.shape)\n",
    "train = testLinearMCClassifier(a,X_train,y_train)\n",
    "val = testLinearMCClassifier(a,X_val,y_val)\n",
    "test = testLinearMCClassifier(a,X_test,y_test)\n",
    "\n",
    "print(\"Mis-classifications= {} out of  {}  equivalent to  {}%\".format(train, int(X_train.shape[0]),train*100 / int(X_train.shape[0])))\n",
    "print(\"Mis-classifications= {} out of  {}  equivalent to  {}%\".format(val, int(X_val.shape[0]),val*100 / int(X_val.shape[0])))\n",
    "print(\"Mis-classifications= {} out of  {}  equivalent to  {}%\".format(test, int(X_test.shape[0]),test*100 / int(X_test.shape[0])))\n"
   ]
  },
  {
   "cell_type": "markdown",
   "metadata": {},
   "source": [
    "## Define logisticRegressionMultiClassClassifierWithRegularization"
   ]
  },
  {
   "cell_type": "code",
   "execution_count": 84,
   "metadata": {},
   "outputs": [
    {
     "name": "stdout",
     "output_type": "stream",
     "text": [
      "Mis-classifications= 6695 out of  49000  equivalent to  13.66326530612245%\n",
      "Mis-classifications= 944 out of  7000  equivalent to  13.485714285714286%\n",
      "Mis-classifications= 1963 out of  14000  equivalent to  14.021428571428572%\n"
     ]
    },
    {
     "data": {
      "image/png": "[encoded data removed]",
      "text/plain": [
       "<Figure size 640x480 with 1 Axes>"
      ]
     },
     "metadata": {},
     "output_type": "display_data"
    }
   ],
   "source": [
    "def softmax(z):\n",
    "    z -= np.max(z, axis=1, keepdims=True)  # For numerical stability\n",
    "    exp_scores = np.exp(z)\n",
    "    return exp_scores / np.sum(exp_scores, axis=1, keepdims=True)\n",
    "\n",
    "def logisticRegressionMultiClassClassifierWithRegularization(Xtrain, ytrain, lambda_val, iterations=100, step_size=1e-4, verbose=False):\n",
    "    n_classes = len(np.unique(ytrain))\n",
    "    n_features = Xtrain.shape[1]\n",
    "    A3 = np.zeros((n_features + 1, n_classes))  # Matrix to store weights for each class\n",
    "\n",
    "    Xtrain_transformed = np.column_stack((Xtrain, np.ones((Xtrain.shape[0], 1))))  # Add bias term\n",
    "\n",
    "    for class_index in range(n_classes):\n",
    "        # Initialize weights for this class\n",
    "        ytrain_binary = (ytrain == class_index).astype(int)  # Binary labels for one-vs-rest\n",
    "        \n",
    "        #print(\"Y train shape: \", ytrain_binary.shape )\n",
    "        #a = np.zeros(n_features + 1)\n",
    "\n",
    "        for i in range(iterations):\n",
    "           scores = np.dot(Xtrain_transformed, A3)\n",
    "           predictions = softmax(scores)\n",
    "           #print(\"prediction shape: \", predictions.shape )\n",
    "           prob_vector = predictions[:, class_index]\n",
    "           gradient = -np.dot(Xtrain_transformed.T[:-1], (prob_vector-ytrain_binary))\n",
    "           lambda_val= 10\n",
    "           reg_term = 2* lambda_val * A3[:-1,class_index]\n",
    "           gradient += reg_term\n",
    "           #print(gradient.shape)\n",
    "           bias_gradient = np.sum(prob_vector-ytrain_binary)\n",
    "           # Update weights and bias separately\n",
    "           A3[:-1, class_index] += step_size * gradient\n",
    "           A3[-1, class_index] += step_size * bias_gradient   \n",
    "           epsilon = 1e-6\n",
    "           if verbose and i % 50 == 0:\n",
    "                cost = -np.mean(ytrain_binary * np.log(prob_vector+epsilon) + (1 - ytrain_binary) * np.log(1 - prob_vector+epsilon))  + (lambda_val) * np.sum(A3[:-1, class_index] ** 2)\n",
    "                #print(f\"Iteration {i}, Cost: {cost}\")\n",
    "\n",
    "    return A3\n",
    "    #YOUR CODE HERE\n",
    "    \n",
    "#------SIMPLE TESTING ON THE TRAINING DATA ITSELF --------------\n",
    "a = logisticRegressionMultiClassClassifierWithRegularization(Xtrain, ytrain, lambda_val = 50, iterations=100, step_size=1e-4, verbose=True)\n",
    "plt.imshow(np.reshape(a[0:-1,0],(28,28)))\n",
    "\n",
    "# print(X_train.shape)\n",
    "train = testLinearMCClassifier(a,X_train,y_train)\n",
    "val = testLinearMCClassifier(a,X_val,y_val)\n",
    "test = testLinearMCClassifier(a,X_test,y_test)\n",
    "\n",
    "print(\"Mis-classifications= {} out of  {}  equivalent to  {}%\".format(train, int(X_train.shape[0]),train*100 / int(X_train.shape[0])))\n",
    "print(\"Mis-classifications= {} out of  {}  equivalent to  {}%\".format(val, int(X_val.shape[0]),val*100 / int(X_val.shape[0])))\n",
    "print(\"Mis-classifications= {} out of  {}  equivalent to  {}%\".format(test, int(X_test.shape[0]),test*100 / int(X_test.shape[0])))\n"
   ]
  },
  {
   "cell_type": "code",
   "execution_count": 90,
   "metadata": {},
   "outputs": [
    {
     "name": "stdout",
     "output_type": "stream",
     "text": [
      "Best lambda: 0.01 with validation accuracy: 951\n",
      "Mis-classifications= 6695 out of  49000  equivalent to  13.66326530612245%\n",
      "Mis-classifications= 944 out of  7000  equivalent to  13.485714285714286%\n",
      "Mis-classifications= 1963 out of  14000  equivalent to  14.021428571428572%\n"
     ]
    },
    {
     "data": {
      "image/png": "[encoded data removed]",
      "text/plain": [
       "<Figure size 640x480 with 1 Axes>"
      ]
     },
     "metadata": {},
     "output_type": "display_data"
    }
   ],
   "source": [
    "\n",
    "def Optimize_MC_Hyperparameters(Xtrain, ytrain,Xval, yval):\n",
    "    best_lambda = None\n",
    "    best_accuracy = 0\n",
    "    A4 = None\n",
    "    lambda_values = [0.01,0.1, 1 ,10,100]\n",
    "    for lambda_val in lambda_values:\n",
    "        # Train the model with the current lambda value\n",
    "        A3 = logisticRegressionMultiClassClassifierWithRegularization(X_train, y_train, lambda_val=lambda_val, iterations=100, step_size=1e-4, verbose=True)\n",
    "\n",
    "        # Evaluate the model on the validation set\n",
    "        accuracy = testLinearMCClassifier(A3,X_val, y_val)\n",
    "\n",
    "        if accuracy > best_accuracy:\n",
    "            best_accuracy = accuracy\n",
    "            best_lambda = lambda_val\n",
    "            A4 = A3\n",
    "\n",
    "    print(f\"Best lambda: {best_lambda} with validation accuracy: {best_accuracy}\")\n",
    "    return A4\n",
    "\n",
    "#------SIMPLE TESTING ON THE TRAINING DATA ITSELF --------------\n",
    "#a = logisticRegressionWithRegularization(X_train,y_train,iterations=500,verbose=False,lam=10)\n",
    "best_lam = Optimize_MC_Hyperparameters(X_train, y_train,X_val,y_val)\n",
    "a = logisticRegressionMultiClassClassifierWithRegularization(Xtrain, ytrain, best_lam, iterations=100, step_size=1e-4, verbose=True)\n",
    "plt.imshow(np.reshape(a[0:-1,0],(28,28)))\n",
    "\n",
    "# print(X_train.shape)\n",
    "train = testLinearMCClassifier(a,X_train,y_train)\n",
    "val = testLinearMCClassifier(a,X_val,y_val)\n",
    "test = testLinearMCClassifier(a,X_test,y_test)\n",
    "\n",
    "print(\"Mis-classifications= {} out of  {}  equivalent to  {}%\".format(train, int(X_train.shape[0]),train*100 / int(X_train.shape[0])))\n",
    "print(\"Mis-classifications= {} out of  {}  equivalent to  {}%\".format(val, int(X_val.shape[0]),val*100 / int(X_val.shape[0])))\n",
    "print(\"Mis-classifications= {} out of  {}  equivalent to  {}%\".format(test, int(X_test.shape[0]),test*100 / int(X_test.shape[0])))\n",
    "\n",
    "\n"
   ]
  },
  {
   "cell_type": "markdown",
   "metadata": {},
   "source": [
    "## Test the performance of a multiclass classifier"
   ]
  },
  {
   "cell_type": "code",
   "execution_count": 88,
   "metadata": {},
   "outputs": [],
   "source": [
    "def testLinearMCClassifier(A,X_test, y_test):\n",
    "    # Add a column of ones to X_test for the bias term\n",
    "    X_test_augmented = np.column_stack((X_test, np.ones(X_test.shape[0])))\n",
    "\n",
    "    class_scores = np.dot(X_test_augmented, A)\n",
    "\n",
    "\n",
    "    # Predicted class is the one with the highest score\n",
    "    predictions = np.argmax(class_scores, axis=1)\n",
    "\n",
    "    # Count how many predictions are incorrect\n",
    "    misclassified = np.sum(predictions != y_test)\n",
    "\n",
    "    return misclassified\n"
   ]
  },
  {
   "cell_type": "markdown",
   "metadata": {},
   "source": [
    "# REPORT TEST ERRORS OF THE BEST MODELS\n",
    "\n",
    "YOUR CODE BELOW"
   ]
  },
  {
   "cell_type": "code",
   "execution_count": 89,
   "metadata": {},
   "outputs": [
    {
     "name": "stdout",
     "output_type": "stream",
     "text": [
      "Training Logistic Regression Multi-Class Classifier\n",
      "Best lambda: 0.01 with validation accuracy: 951\n",
      "Number of misclassifications (Gaussian Multi-Channel Classifier): 2634\n",
      "Number of misclassifications (Logistic Regression Multi-Class Classifier): 1808\n",
      "Number of misclassifications (Regularized Logistic Regression Multi-Class Classifier): 1965\n",
      "Number of misclassifications (Optimized Regularized Logistic Regression Multi-Class Classifier): 1965\n"
     ]
    }
   ],
   "source": [
    "\n",
    "\n",
    "# Train each algorithm\n",
    "A1 = gaussianMultiChannelClassifier(X_train, y_train\n",
    "A2 = logisticRegressionMultiClassClassifier(X_train, y_train)\n",
    "lambda_val = 1.0  # Example lambda value\n",
    "A3 = logisticRegressionMultiClassClassifierWithRegularization(X_train, y_train, lambda_val)\n",
    "lambda_values = [0.01,0.1, 1 ,10,100]\n",
    "A4 = Optimize_MC_Hyperparameters(X_train, y_train,X_val,y_val)\n",
    "\n",
    "# Evaluate each algorithm on the test dataset\n",
    "misclassified_A1 = testLinearMCClassifier(A1,X_test, y_test)\n",
    "misclassified_A2 = testLinearMCClassifier(A2,X_test, y_test)\n",
    "misclassified_A3 = testLinearMCClassifier(A3,X_test, y_test)\n",
    "misclassified_A4 = testLinearMCClassifier(A4,X_test, y_test)\n",
    "\n",
    "# Report the results\n",
    "print(f\"Number of misclassifications (Gaussian Multi-Channel Classifier): {misclassified_A1}\")\n",
    "print(f\"Number of misclassifications (Logistic Regression Multi-Class Classifier): {misclassified_A2}\")\n",
    "print(f\"Number of misclassifications (Regularized Logistic Regression Multi-Class Classifier): {misclassified_A3}\")\n",
    "print(f\"Number of misclassifications (Optimized Regularized Logistic Regression Multi-Class Classifier): {misclassified_A4}\")\n",
    "\n",
    "\n"
   ]
  },
  {
   "cell_type": "markdown",
   "metadata": {},
   "source": [
    "Gaussian Multi-Channel Classifier, which likely uses a Gaussian distribution assumption for each class, misclassified 2634 samples. Logistic Regression Multi-Class Classifier misclassified 1808 samples. It performs better than the Gaussian Multi-Channel Classifier, indicating a better fit for the data or more effective handling of the class distinctions.  With regularization applied, this model misclassified 1965 samples. Interestingly, it does not perform as well as the standard logistic regression, suggesting that the regularization might not appropriately tuned for this dataset.The opimization process might not have significantly improved the model's performance since the misclassificaition is 1965, which is equal to the Regularized Logistic Regression Multi-Class Classifier with lambda = 1."
   ]
  }
 ],
 "metadata": {
  "anaconda-cloud": {},
  "kernelspec": {
   "display_name": "Python 3 (ipykernel)",
   "language": "python",
   "name": "python3"
  },
  "language_info": {
   "codemirror_mode": {
    "name": "ipython",
    "version": 3
   },
   "file_extension": ".py",
   "mimetype": "text/x-python",
   "name": "python",
   "nbconvert_exporter": "python",
   "pygments_lexer": "ipython3",
   "version": "3.11.1"
  }
 },
 "nbformat": 4,
 "nbformat_minor": 4
}
